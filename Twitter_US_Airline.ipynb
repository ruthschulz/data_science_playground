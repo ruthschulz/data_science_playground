{
  "nbformat": 4,
  "nbformat_minor": 0,
  "metadata": {
    "colab": {
      "name": "Twitter_US_Airline.ipynb",
      "version": "0.3.2",
      "provenance": []
    },
    "kernelspec": {
      "name": "python3",
      "display_name": "Python 3"
    },
    "accelerator": "GPU"
  },
  "cells": [
    {
      "cell_type": "markdown",
      "metadata": {
        "id": "zreQ3kZXxbD8",
        "colab_type": "text"
      },
      "source": [
        "# Twitter US Airlines Sentiment\n",
        "\n",
        "## Contents\n",
        "\n",
        "- Overview\n",
        "- Load data\n",
        "- Explore of data\n",
        "- Format data for language model training\n",
        "- Train language model\n",
        "- Evaluate language model\n",
        "- Format data for classifier\n",
        "- Train classifier\n",
        "- Evaluate\n",
        "- Conclusions"
      ]
    },
    {
      "cell_type": "markdown",
      "metadata": {
        "id": "6Mhq6B5h-z1T",
        "colab_type": "text"
      },
      "source": [
        "## Overview\n",
        "\n",
        "I am practicing my AI and data science skills in various projects.\n",
        "While working on the Food-101 dataset, I had a lot of success using the fastai approach from lesson 1 of their online course Practical Deep Learning for Coders, v3 (https://course.fast.ai/videos/?lesson=1): https://github.com/ruthschulz/data_science_playground/blob/master/food_101-resnet50-fastai.ipynb\n",
        "\n",
        "In lesson 4 of their online course Practical Deep Learning for Coders, v3 (https://course.fast.ai/videos/?lesson=4) they use ULMFiT (https://arxiv.org/pdf/1801.06146.pdf) to train a language model and classify IMDb reviews as positive or negative.\n",
        "\n",
        "In this notebook I use ULMFiT to train a language model and classify tweets about US Airlines as positive, neutral, or negative. The dataset is from Kaggle (originally from Crowdflower).\n",
        "\n",
        "First I explore the dataset with some visualisations.\n",
        "Next I train a language model on the tweets.\n",
        "Finally I train a classifier on the tweets. \n",
        "\n",
        "The language model predicts the next word with an accuracy of 28.77%.\n",
        "\n",
        "The classifier predicts the sentiment of tweets with an accuracy of 83.81%.\n",
        "\n",
        "Note that for simplicity in this notebook I have only separated the dataset out into training and validation sets, so do not report a test set accuracy.\n",
        "\n",
        "### Kaggle: Twitter US Airline dataset\n",
        "\n",
        "https://www.kaggle.com/crowdflower/twitter-airline-sentiment\n",
        "\n",
        "The data we're providing on Kaggle is a slightly reformatted version of the original source. It includes both a CSV file and SQLite database. The code that does these transformations is available on GitHub\n",
        "\n",
        "For example, it contains whether the sentiment of the tweets in this set was positive, neutral, or negative for six US airlines\n",
        "\n",
        "\n",
        "The following kaggle kernel reached an accuracy of 81.35% using a Random Forest Classifier:\n",
        "https://www.kaggle.com/jiashenliu/how-can-we-predict-the-sentiment-by-tweets\n",
        "\n",
        "The following kaggle kernel uses the same ULMFiT model and reaches a validation accuracy of 81.6% and a test accuracy of 77.8%:\n",
        "https://www.kaggle.com/wesleyliao3/sentiment-analysis-using-rnn-lstm-ulmfit\n",
        "\n",
        "### Crowdflower: Airline Twitter sentiment\n",
        "\n",
        "https://www.figure-eight.com/data-for-everyone/\n",
        "\n",
        "A sentiment analysis job about the problems of each major U.S. airline. Twitter data was scraped from February of 2015 and contributors were asked to first classify positive, negative, and neutral tweets, followed by categorizing negative reasons (such as “late flight” or “rude service”).\n",
        "\n",
        "Added: February 12, 2015 by CrowdFlower | Data Rows: 16000\n",
        "\n",
        "### Fellowship.ai Challenge\n",
        "\n",
        "I came across this dataset while looking at data science fellowships, one of which being Fellowship.ai. (https://fellowship.ai/) As part of their application process they have several challenges to complete, including one using this Twitter US Airlines Sentiment.\n",
        "\n",
        "https://fellowship.ai/challenge\n",
        "\n",
        "ULMFiT Sentiment\n",
        "\n",
        "Apply a supervised or semi-supervised ULMFiT model to Twitter US Airlines Sentiment "
      ]
    },
    {
      "cell_type": "markdown",
      "metadata": {
        "id": "m5y7-9PP8Jx0",
        "colab_type": "text"
      },
      "source": [
        "## Loading data\n",
        "\n",
        "I initially loaded the data from kaggle, but kept it in my google drive to speed things up and save downloading it every time.\n",
        "\n",
        "Using kaggle with colab:\n",
        "https://towardsdatascience.com/setting-up-kaggle-in-google-colab-ebb281b61463\n"
      ]
    },
    {
      "cell_type": "code",
      "metadata": {
        "id": "y7_QoFSy_wRH",
        "colab_type": "code",
        "colab": {}
      },
      "source": [
        "import numpy as np\n",
        "import pandas as pd\n",
        "import matplotlib.pyplot as plt\n",
        "%matplotlib inline\n",
        "import seaborn as sns"
      ],
      "execution_count": 0,
      "outputs": []
    },
    {
      "cell_type": "code",
      "metadata": {
        "id": "gjODd4D0AfxN",
        "colab_type": "code",
        "colab": {}
      },
      "source": [
        "%reload_ext autoreload\n",
        "%autoreload 2"
      ],
      "execution_count": 0,
      "outputs": []
    },
    {
      "cell_type": "code",
      "metadata": {
        "id": "bbjusdBaAgx9",
        "colab_type": "code",
        "colab": {}
      },
      "source": [
        "from fastai.text import *"
      ],
      "execution_count": 0,
      "outputs": []
    },
    {
      "cell_type": "code",
      "metadata": {
        "id": "P1N0e8CM_l1z",
        "colab_type": "code",
        "colab": {}
      },
      "source": [
        "import os\n",
        "if not os.path.exists(\"./gdrive\"):\n",
        "  from google.colab import drive\n",
        "  drive.mount('/content/gdrive')"
      ],
      "execution_count": 0,
      "outputs": []
    },
    {
      "cell_type": "code",
      "metadata": {
        "id": "JbgM177OAMXk",
        "colab_type": "code",
        "colab": {}
      },
      "source": [
        "import shutil"
      ],
      "execution_count": 0,
      "outputs": []
    },
    {
      "cell_type": "code",
      "metadata": {
        "id": "NR_4dP9rCN1l",
        "colab_type": "code",
        "colab": {}
      },
      "source": [
        "import os"
      ],
      "execution_count": 0,
      "outputs": []
    },
    {
      "cell_type": "code",
      "metadata": {
        "id": "ZdrX2sKNBNsR",
        "colab_type": "code",
        "colab": {}
      },
      "source": [
        "df = pd.read_csv('./gdrive/My Drive/Colab Notebooks/data/Tweets.csv')"
      ],
      "execution_count": 0,
      "outputs": []
    },
    {
      "cell_type": "markdown",
      "metadata": {
        "id": "jnKr8cOT9iSG",
        "colab_type": "text"
      },
      "source": [
        "## Explore data\n",
        "\n",
        "The dataset includes 14640 tweets about 6 US Airlines (Virgin America, United, Southwest, Delta, US Airways, and American) made between 16 February 2015 and 24 February 2015.\n",
        "\n",
        "Each tweet has been classified as positive, neutral, or negative.\n",
        "\n",
        "There is a sentiment confidence column that indicates the proportion of people classifying the tweets who agreed on the classification for that tweet.\n",
        "\n",
        "For negative tweets, the people classifying tweets also determined the reason for the negative tweet as one of 9 reasons or \"Can't tell\".\n",
        "\n",
        "There are a lot more negative tweets than either positive or neutral tweets."
      ]
    },
    {
      "cell_type": "code",
      "metadata": {
        "id": "4F_6duExDFrO",
        "colab_type": "code",
        "colab": {
          "base_uri": "https://localhost:8080/",
          "height": 364
        },
        "outputId": "1dbd44a6-be56-4de6-b2cc-31e9105e3c54"
      },
      "source": [
        "df.info()"
      ],
      "execution_count": 8,
      "outputs": [
        {
          "output_type": "stream",
          "text": [
            "<class 'pandas.core.frame.DataFrame'>\n",
            "RangeIndex: 14640 entries, 0 to 14639\n",
            "Data columns (total 15 columns):\n",
            "tweet_id                        14640 non-null int64\n",
            "airline_sentiment               14640 non-null object\n",
            "airline_sentiment_confidence    14640 non-null float64\n",
            "negativereason                  9178 non-null object\n",
            "negativereason_confidence       10522 non-null float64\n",
            "airline                         14640 non-null object\n",
            "airline_sentiment_gold          40 non-null object\n",
            "name                            14640 non-null object\n",
            "negativereason_gold             32 non-null object\n",
            "retweet_count                   14640 non-null int64\n",
            "text                            14640 non-null object\n",
            "tweet_coord                     1019 non-null object\n",
            "tweet_created                   14640 non-null object\n",
            "tweet_location                  9907 non-null object\n",
            "user_timezone                   9820 non-null object\n",
            "dtypes: float64(2), int64(2), object(11)\n",
            "memory usage: 1.7+ MB\n"
          ],
          "name": "stdout"
        }
      ]
    },
    {
      "cell_type": "code",
      "metadata": {
        "id": "JZhISnEeDTiT",
        "colab_type": "code",
        "colab": {
          "base_uri": "https://localhost:8080/",
          "height": 452
        },
        "outputId": "90c3940e-b322-485f-d56a-2745de17aa73"
      },
      "source": [
        "df.head()"
      ],
      "execution_count": 9,
      "outputs": [
        {
          "output_type": "execute_result",
          "data": {
            "text/html": [
              "<div>\n",
              "<style scoped>\n",
              "    .dataframe tbody tr th:only-of-type {\n",
              "        vertical-align: middle;\n",
              "    }\n",
              "\n",
              "    .dataframe tbody tr th {\n",
              "        vertical-align: top;\n",
              "    }\n",
              "\n",
              "    .dataframe thead th {\n",
              "        text-align: right;\n",
              "    }\n",
              "</style>\n",
              "<table border=\"1\" class=\"dataframe\">\n",
              "  <thead>\n",
              "    <tr style=\"text-align: right;\">\n",
              "      <th></th>\n",
              "      <th>tweet_id</th>\n",
              "      <th>airline_sentiment</th>\n",
              "      <th>airline_sentiment_confidence</th>\n",
              "      <th>negativereason</th>\n",
              "      <th>negativereason_confidence</th>\n",
              "      <th>airline</th>\n",
              "      <th>airline_sentiment_gold</th>\n",
              "      <th>name</th>\n",
              "      <th>negativereason_gold</th>\n",
              "      <th>retweet_count</th>\n",
              "      <th>text</th>\n",
              "      <th>tweet_coord</th>\n",
              "      <th>tweet_created</th>\n",
              "      <th>tweet_location</th>\n",
              "      <th>user_timezone</th>\n",
              "    </tr>\n",
              "  </thead>\n",
              "  <tbody>\n",
              "    <tr>\n",
              "      <th>0</th>\n",
              "      <td>570306133677760513</td>\n",
              "      <td>neutral</td>\n",
              "      <td>1.0000</td>\n",
              "      <td>NaN</td>\n",
              "      <td>NaN</td>\n",
              "      <td>Virgin America</td>\n",
              "      <td>NaN</td>\n",
              "      <td>cairdin</td>\n",
              "      <td>NaN</td>\n",
              "      <td>0</td>\n",
              "      <td>@VirginAmerica What @dhepburn said.</td>\n",
              "      <td>NaN</td>\n",
              "      <td>2015-02-24 11:35:52 -0800</td>\n",
              "      <td>NaN</td>\n",
              "      <td>Eastern Time (US &amp; Canada)</td>\n",
              "    </tr>\n",
              "    <tr>\n",
              "      <th>1</th>\n",
              "      <td>570301130888122368</td>\n",
              "      <td>positive</td>\n",
              "      <td>0.3486</td>\n",
              "      <td>NaN</td>\n",
              "      <td>0.0000</td>\n",
              "      <td>Virgin America</td>\n",
              "      <td>NaN</td>\n",
              "      <td>jnardino</td>\n",
              "      <td>NaN</td>\n",
              "      <td>0</td>\n",
              "      <td>@VirginAmerica plus you've added commercials t...</td>\n",
              "      <td>NaN</td>\n",
              "      <td>2015-02-24 11:15:59 -0800</td>\n",
              "      <td>NaN</td>\n",
              "      <td>Pacific Time (US &amp; Canada)</td>\n",
              "    </tr>\n",
              "    <tr>\n",
              "      <th>2</th>\n",
              "      <td>570301083672813571</td>\n",
              "      <td>neutral</td>\n",
              "      <td>0.6837</td>\n",
              "      <td>NaN</td>\n",
              "      <td>NaN</td>\n",
              "      <td>Virgin America</td>\n",
              "      <td>NaN</td>\n",
              "      <td>yvonnalynn</td>\n",
              "      <td>NaN</td>\n",
              "      <td>0</td>\n",
              "      <td>@VirginAmerica I didn't today... Must mean I n...</td>\n",
              "      <td>NaN</td>\n",
              "      <td>2015-02-24 11:15:48 -0800</td>\n",
              "      <td>Lets Play</td>\n",
              "      <td>Central Time (US &amp; Canada)</td>\n",
              "    </tr>\n",
              "    <tr>\n",
              "      <th>3</th>\n",
              "      <td>570301031407624196</td>\n",
              "      <td>negative</td>\n",
              "      <td>1.0000</td>\n",
              "      <td>Bad Flight</td>\n",
              "      <td>0.7033</td>\n",
              "      <td>Virgin America</td>\n",
              "      <td>NaN</td>\n",
              "      <td>jnardino</td>\n",
              "      <td>NaN</td>\n",
              "      <td>0</td>\n",
              "      <td>@VirginAmerica it's really aggressive to blast...</td>\n",
              "      <td>NaN</td>\n",
              "      <td>2015-02-24 11:15:36 -0800</td>\n",
              "      <td>NaN</td>\n",
              "      <td>Pacific Time (US &amp; Canada)</td>\n",
              "    </tr>\n",
              "    <tr>\n",
              "      <th>4</th>\n",
              "      <td>570300817074462722</td>\n",
              "      <td>negative</td>\n",
              "      <td>1.0000</td>\n",
              "      <td>Can't Tell</td>\n",
              "      <td>1.0000</td>\n",
              "      <td>Virgin America</td>\n",
              "      <td>NaN</td>\n",
              "      <td>jnardino</td>\n",
              "      <td>NaN</td>\n",
              "      <td>0</td>\n",
              "      <td>@VirginAmerica and it's a really big bad thing...</td>\n",
              "      <td>NaN</td>\n",
              "      <td>2015-02-24 11:14:45 -0800</td>\n",
              "      <td>NaN</td>\n",
              "      <td>Pacific Time (US &amp; Canada)</td>\n",
              "    </tr>\n",
              "  </tbody>\n",
              "</table>\n",
              "</div>"
            ],
            "text/plain": [
              "             tweet_id  ...               user_timezone\n",
              "0  570306133677760513  ...  Eastern Time (US & Canada)\n",
              "1  570301130888122368  ...  Pacific Time (US & Canada)\n",
              "2  570301083672813571  ...  Central Time (US & Canada)\n",
              "3  570301031407624196  ...  Pacific Time (US & Canada)\n",
              "4  570300817074462722  ...  Pacific Time (US & Canada)\n",
              "\n",
              "[5 rows x 15 columns]"
            ]
          },
          "metadata": {
            "tags": []
          },
          "execution_count": 9
        }
      ]
    },
    {
      "cell_type": "code",
      "metadata": {
        "id": "x3KNNZ5-DUnC",
        "colab_type": "code",
        "colab": {
          "base_uri": "https://localhost:8080/",
          "height": 409
        },
        "outputId": "e4ab9866-78e5-4993-e5fb-95f70b6bd9b0"
      },
      "source": [
        "plt.figure(figsize=(16,6))\n",
        "sns.countplot(x='airline', data=df)"
      ],
      "execution_count": 10,
      "outputs": [
        {
          "output_type": "execute_result",
          "data": {
            "text/plain": [
              "<matplotlib.axes._subplots.AxesSubplot at 0x7fdbbac2bcc0>"
            ]
          },
          "metadata": {
            "tags": []
          },
          "execution_count": 10
        },
        {
          "output_type": "display_data",
          "data": {
            "image/png": "[encoded data removed]",
            "text/plain": [
              "<Figure size 1152x432 with 1 Axes>"
            ]
          },
          "metadata": {
            "tags": []
          }
        }
      ]
    },
    {
      "cell_type": "code",
      "metadata": {
        "id": "rDqq84ZMBL7o",
        "colab_type": "code",
        "colab": {
          "base_uri": "https://localhost:8080/",
          "height": 409
        },
        "outputId": "533de0b1-8bb3-41ca-fd60-0218308a20fd"
      },
      "source": [
        "plt.figure(figsize=(16,6))\n",
        "sns.countplot(x='airline_sentiment', data=df)"
      ],
      "execution_count": 11,
      "outputs": [
        {
          "output_type": "execute_result",
          "data": {
            "text/plain": [
              "<matplotlib.axes._subplots.AxesSubplot at 0x7fdbbac6b748>"
            ]
          },
          "metadata": {
            "tags": []
          },
          "execution_count": 11
        },
        {
          "output_type": "display_data",
          "data": {
            "image/png": "[encoded data removed]",
            "text/plain": [
              "<Figure size 1152x432 with 1 Axes>"
            ]
          },
          "metadata": {
            "tags": []
          }
        }
      ]
    },
    {
      "cell_type": "code",
      "metadata": {
        "id": "GMIee7ZuBSQ7",
        "colab_type": "code",
        "colab": {
          "base_uri": "https://localhost:8080/",
          "height": 409
        },
        "outputId": "883c9e0d-a836-4573-f228-9267bf529098"
      },
      "source": [
        "plt.figure(figsize=(16,6))\n",
        "sns.countplot(x='airline', data=df, hue='airline_sentiment')"
      ],
      "execution_count": 12,
      "outputs": [
        {
          "output_type": "execute_result",
          "data": {
            "text/plain": [
              "<matplotlib.axes._subplots.AxesSubplot at 0x7fdbb83094a8>"
            ]
          },
          "metadata": {
            "tags": []
          },
          "execution_count": 12
        },
        {
          "output_type": "display_data",
          "data": {
            "image/png": "[encoded data removed]",
            "text/plain": [
              "<Figure size 1152x432 with 1 Axes>"
            ]
          },
          "metadata": {
            "tags": []
          }
        }
      ]
    },
    {
      "cell_type": "code",
      "metadata": {
        "id": "oecZE-5dBzjx",
        "colab_type": "code",
        "colab": {
          "base_uri": "https://localhost:8080/",
          "height": 409
        },
        "outputId": "5d502955-a01a-48e9-8a5d-c8acdf8a059e"
      },
      "source": [
        "plt.figure(figsize=(16,6))\n",
        "sns.countplot(x='negativereason', data=df)"
      ],
      "execution_count": 13,
      "outputs": [
        {
          "output_type": "execute_result",
          "data": {
            "text/plain": [
              "<matplotlib.axes._subplots.AxesSubplot at 0x7fdbbab4d198>"
            ]
          },
          "metadata": {
            "tags": []
          },
          "execution_count": 13
        },
        {
          "output_type": "display_data",
          "data": {
            "image/png": "[encoded data removed]",
            "text/plain": [
              "<Figure size 1152x432 with 1 Axes>"
            ]
          },
          "metadata": {
            "tags": []
          }
        }
      ]
    },
    {
      "cell_type": "code",
      "metadata": {
        "id": "u6T-8jRXDiLh",
        "colab_type": "code",
        "colab": {
          "base_uri": "https://localhost:8080/",
          "height": 34
        },
        "outputId": "e7b550f8-8403-4f6a-baae-355bcb7efd8e"
      },
      "source": [
        "min(df['tweet_created'])"
      ],
      "execution_count": 14,
      "outputs": [
        {
          "output_type": "execute_result",
          "data": {
            "text/plain": [
              "'2015-02-16 23:36:05 -0800'"
            ]
          },
          "metadata": {
            "tags": []
          },
          "execution_count": 14
        }
      ]
    },
    {
      "cell_type": "code",
      "metadata": {
        "id": "2iGiYfG6DvoO",
        "colab_type": "code",
        "colab": {
          "base_uri": "https://localhost:8080/",
          "height": 34
        },
        "outputId": "126ff0ea-daa3-47ff-aca6-df035a54c473"
      },
      "source": [
        "max(df['tweet_created'])"
      ],
      "execution_count": 15,
      "outputs": [
        {
          "output_type": "execute_result",
          "data": {
            "text/plain": [
              "'2015-02-24 11:53:37 -0800'"
            ]
          },
          "metadata": {
            "tags": []
          },
          "execution_count": 15
        }
      ]
    },
    {
      "cell_type": "markdown",
      "metadata": {
        "id": "5Rb-Fi9yBYqe",
        "colab_type": "text"
      },
      "source": [
        "## Format data for language model training\n",
        "\n",
        "These steps separate out just the tweets and the labels into a csv file, then load this data into a Text List databunch, using 90% for training and 10% for validation. The language model ignores the labels, these will be used later for the classifier. On loading into a databunch, the data is tokenized and numericalized."
      ]
    },
    {
      "cell_type": "code",
      "metadata": {
        "id": "XKHFtWUYD2G3",
        "colab_type": "code",
        "colab": {}
      },
      "source": [
        "newdf = df[['airline_sentiment','text']].copy()"
      ],
      "execution_count": 0,
      "outputs": []
    },
    {
      "cell_type": "code",
      "metadata": {
        "id": "VAi29HmvHUgS",
        "colab_type": "code",
        "colab": {}
      },
      "source": [
        "newdf.columns = ['label','text']"
      ],
      "execution_count": 0,
      "outputs": []
    },
    {
      "cell_type": "code",
      "metadata": {
        "id": "pCT6A0yKEF1t",
        "colab_type": "code",
        "colab": {}
      },
      "source": [
        "newdf.to_csv('Tweets1.csv')"
      ],
      "execution_count": 0,
      "outputs": []
    },
    {
      "cell_type": "code",
      "metadata": {
        "id": "HD2aNiqzH4E6",
        "colab_type": "code",
        "colab": {
          "base_uri": "https://localhost:8080/",
          "height": 34
        },
        "outputId": "ebed5a2d-a847-4477-b141-3e488ae8482a"
      },
      "source": [
        "shutil.copyfile('Tweets1.csv', './gdrive/My Drive/Colab Notebooks/data/Tweets1.csv')"
      ],
      "execution_count": 19,
      "outputs": [
        {
          "output_type": "execute_result",
          "data": {
            "text/plain": [
              "'./gdrive/My Drive/Colab Notebooks/data/Tweets1.csv'"
            ]
          },
          "metadata": {
            "tags": []
          },
          "execution_count": 19
        }
      ]
    },
    {
      "cell_type": "code",
      "metadata": {
        "id": "1pDXZ2n1Ch4Q",
        "colab_type": "code",
        "colab": {}
      },
      "source": [
        "newdf = pd.read_csv('./gdrive/My Drive/Colab Notebooks/data/Tweets1.csv')"
      ],
      "execution_count": 0,
      "outputs": []
    },
    {
      "cell_type": "code",
      "metadata": {
        "id": "Ww7v-n1_HH-o",
        "colab_type": "code",
        "colab": {
          "base_uri": "https://localhost:8080/",
          "height": 206
        },
        "outputId": "3802899e-6a82-47ad-ce07-e576da5b609d"
      },
      "source": [
        "newdf.head()"
      ],
      "execution_count": 21,
      "outputs": [
        {
          "output_type": "execute_result",
          "data": {
            "text/html": [
              "<div>\n",
              "<style scoped>\n",
              "    .dataframe tbody tr th:only-of-type {\n",
              "        vertical-align: middle;\n",
              "    }\n",
              "\n",
              "    .dataframe tbody tr th {\n",
              "        vertical-align: top;\n",
              "    }\n",
              "\n",
              "    .dataframe thead th {\n",
              "        text-align: right;\n",
              "    }\n",
              "</style>\n",
              "<table border=\"1\" class=\"dataframe\">\n",
              "  <thead>\n",
              "    <tr style=\"text-align: right;\">\n",
              "      <th></th>\n",
              "      <th>Unnamed: 0</th>\n",
              "      <th>label</th>\n",
              "      <th>text</th>\n",
              "    </tr>\n",
              "  </thead>\n",
              "  <tbody>\n",
              "    <tr>\n",
              "      <th>0</th>\n",
              "      <td>0</td>\n",
              "      <td>neutral</td>\n",
              "      <td>@VirginAmerica What @dhepburn said.</td>\n",
              "    </tr>\n",
              "    <tr>\n",
              "      <th>1</th>\n",
              "      <td>1</td>\n",
              "      <td>positive</td>\n",
              "      <td>@VirginAmerica plus you've added commercials t...</td>\n",
              "    </tr>\n",
              "    <tr>\n",
              "      <th>2</th>\n",
              "      <td>2</td>\n",
              "      <td>neutral</td>\n",
              "      <td>@VirginAmerica I didn't today... Must mean I n...</td>\n",
              "    </tr>\n",
              "    <tr>\n",
              "      <th>3</th>\n",
              "      <td>3</td>\n",
              "      <td>negative</td>\n",
              "      <td>@VirginAmerica it's really aggressive to blast...</td>\n",
              "    </tr>\n",
              "    <tr>\n",
              "      <th>4</th>\n",
              "      <td>4</td>\n",
              "      <td>negative</td>\n",
              "      <td>@VirginAmerica and it's a really big bad thing...</td>\n",
              "    </tr>\n",
              "  </tbody>\n",
              "</table>\n",
              "</div>"
            ],
            "text/plain": [
              "   Unnamed: 0     label                                               text\n",
              "0           0   neutral                @VirginAmerica What @dhepburn said.\n",
              "1           1  positive  @VirginAmerica plus you've added commercials t...\n",
              "2           2   neutral  @VirginAmerica I didn't today... Must mean I n...\n",
              "3           3  negative  @VirginAmerica it's really aggressive to blast...\n",
              "4           4  negative  @VirginAmerica and it's a really big bad thing..."
            ]
          },
          "metadata": {
            "tags": []
          },
          "execution_count": 21
        }
      ]
    },
    {
      "cell_type": "code",
      "metadata": {
        "id": "wDfScbsSI2Tl",
        "colab_type": "code",
        "colab": {}
      },
      "source": [
        "path = './gdrive/My Drive/Colab Notebooks/data/'"
      ],
      "execution_count": 0,
      "outputs": []
    },
    {
      "cell_type": "code",
      "metadata": {
        "id": "Vmh_GlcIgpUY",
        "colab_type": "code",
        "colab": {}
      },
      "source": [
        "bs=48"
      ],
      "execution_count": 0,
      "outputs": []
    },
    {
      "cell_type": "code",
      "metadata": {
        "id": "-IZHWKw3hXo-",
        "colab_type": "code",
        "colab": {}
      },
      "source": [
        "data_lm = (TextList.from_csv(path, 'Tweets1.csv', cols='text')\n",
        "           #Inputs: all the text files in path\n",
        "            .split_subsets(train_size=0.9, valid_size=0.1)\n",
        "           #We randomly split and keep 10% (10,000 reviews) for validation\n",
        "            .label_for_lm()           \n",
        "           #We want to do a language model so we label accordingly\n",
        "            .databunch(bs=bs))\n",
        "data_lm.save('data_lm.pkl')"
      ],
      "execution_count": 0,
      "outputs": []
    },
    {
      "cell_type": "code",
      "metadata": {
        "id": "yWIFC0LGiKGV",
        "colab_type": "code",
        "colab": {}
      },
      "source": [
        "data_lm = load_data(path, 'data_lm.pkl', bs=bs)"
      ],
      "execution_count": 0,
      "outputs": []
    },
    {
      "cell_type": "code",
      "metadata": {
        "id": "D9gK4WCMjFnG",
        "colab_type": "code",
        "colab": {
          "base_uri": "https://localhost:8080/",
          "height": 345
        },
        "outputId": "6950509c-5390-4b99-9e39-e5bc3012025d"
      },
      "source": [
        "data_lm.show_batch()"
      ],
      "execution_count": 26,
      "outputs": [
        {
          "output_type": "display_data",
          "data": {
            "text/html": [
              "<table border=\"1\" class=\"dataframe\">\n",
              "  <thead>\n",
              "    <tr style=\"text-align: right;\">\n",
              "      <th>idx</th>\n",
              "      <th>text</th>\n",
              "    </tr>\n",
              "  </thead>\n",
              "  <tbody>\n",
              "    <tr>\n",
              "      <td>0</td>\n",
              "      <td>no it is n't - xxunk incompetence was xxunk at xxup dfw today . i was there . xxmaj on a plane on the xxup xxunk runway . i doubt you were . xxbos @united some compensation ( xxunk upgrade to higher class for my rescheduled flight to xxup xxunk today ) will be appreciated , though ;) xxbos @jetblue i will try that . xxmaj thanks ! xxmaj if</td>\n",
              "    </tr>\n",
              "    <tr>\n",
              "      <td>1</td>\n",
              "      <td>are n't medical equipment and that she should have \" planned better . \" xxbos @jetblue where is the \" award winning service \" ? xxbos @southwestair now it 's delayed until xxunk . xxmaj getting yelled at by attendants not to bother them . xxmaj getting worse xxbos @americanair no vouchers 4 xxmaj cancelled xxmaj flighted flight due 2 weather . xxmaj today 's issue , broken tire .</td>\n",
              "    </tr>\n",
              "    <tr>\n",
              "      <td>2</td>\n",
              "      <td>xxbos @united well if you do n't want your customers to be frustrated compensate them xxunk when you screw up xxunk ! ! # xxunk xxbos @southwestair xxmaj thank you ! xxbos @jetblue xxmaj is there something going on with your alerts ? xxmaj flight 's been delayed several times for my parents and i 'm not receiving any alerts . xxbos @united not just refunded , but for those</td>\n",
              "    </tr>\n",
              "    <tr>\n",
              "      <td>3</td>\n",
              "      <td>a concern , i 'll just travel with someone else moving forward . xxbos @americanair they responded . i ca n't respond to their response . xxmaj nor can i speak with someone . # worstcustomerserviceever xxbos @usairways i have run out of patience .. xxmaj we are sitting in a bus without air in front of plane and there is no communication from xxunk xxbos @united of xxunk ,</td>\n",
              "    </tr>\n",
              "    <tr>\n",
              "      <td>4</td>\n",
              "      <td>are xxunk on plane . xxbos @southwestair xxmaj so i guess you can get to the airport too early ! xxmaj need to wait xxunk to checkin . xxmaj really ? xxbos @southwestair xxmaj no like i said i could not reach anyone at your company so i had to rent a car and xxunk the whole thing up to a loss xxbos @jetblue xxup ta off site at #</td>\n",
              "    </tr>\n",
              "  </tbody>\n",
              "</table>"
            ],
            "text/plain": [
              "<IPython.core.display.HTML object>"
            ]
          },
          "metadata": {
            "tags": []
          }
        }
      ]
    },
    {
      "cell_type": "code",
      "metadata": {
        "id": "BgpaIPVTIyza",
        "colab_type": "code",
        "colab": {
          "base_uri": "https://localhost:8080/",
          "height": 191
        },
        "outputId": "161ea020-4982-4e4f-f3ce-a3cf83756ec2"
      },
      "source": [
        "data_lm.vocab.itos[:10]"
      ],
      "execution_count": 27,
      "outputs": [
        {
          "output_type": "execute_result",
          "data": {
            "text/plain": [
              "['xxunk',\n",
              " 'xxpad',\n",
              " 'xxbos',\n",
              " 'xxeos',\n",
              " 'xxfld',\n",
              " 'xxmaj',\n",
              " 'xxup',\n",
              " 'xxrep',\n",
              " 'xxwrep',\n",
              " '.']"
            ]
          },
          "metadata": {
            "tags": []
          },
          "execution_count": 27
        }
      ]
    },
    {
      "cell_type": "code",
      "metadata": {
        "id": "gtXl_P8_DfQ6",
        "colab_type": "code",
        "colab": {
          "base_uri": "https://localhost:8080/",
          "height": 34
        },
        "outputId": "219a162c-1717-494d-c12f-43ca2423eeda"
      },
      "source": [
        "data_lm.train_ds[0][0]"
      ],
      "execution_count": 28,
      "outputs": [
        {
          "output_type": "execute_result",
          "data": {
            "text/plain": [
              "Text xxbos @jetblue xxmaj airways xxmaj short xxmaj interest xxmaj down 3.5 % in xxmaj january ( xxup jblu ) - xxunk http : / / t.co / xxunk"
            ]
          },
          "metadata": {
            "tags": []
          },
          "execution_count": 28
        }
      ]
    },
    {
      "cell_type": "code",
      "metadata": {
        "id": "fGDqLg80Dj_Q",
        "colab_type": "code",
        "colab": {
          "base_uri": "https://localhost:8080/",
          "height": 34
        },
        "outputId": "e59c1c47-1736-4b4f-e34d-ad07d7db67b7"
      },
      "source": [
        "data_lm.train_ds[0][0].data[:10]"
      ],
      "execution_count": 29,
      "outputs": [
        {
          "output_type": "execute_result",
          "data": {
            "text/plain": [
              "array([   2,   32,    5,  434,    5,  965,    5, 2367,    5,  314])"
            ]
          },
          "metadata": {
            "tags": []
          },
          "execution_count": 29
        }
      ]
    },
    {
      "cell_type": "markdown",
      "metadata": {
        "id": "MMxnvukVDDCs",
        "colab_type": "text"
      },
      "source": [
        "## Train language model\n",
        "\n",
        "The langauge model is the AWD_LSTM model (https://arxiv.org/pdf/1708.02182.pdf) pretrained on wikitext-103 (https://blog.einstein.ai/the-wikitext-long-term-dependency-language-modeling-dataset/).\n",
        "\n",
        "Here we find the probable best learning rates using fastai's lr_find (rule of thumb is choose a learning rate where the loss is decreasing, a bit before it starts to increase again).\n",
        "\n",
        "Then train initially for one cycle, then unfreeze all weights, find best probable learning rate and train for 5 epochs. \n",
        "\n",
        "In early testing that I did, training for 10 epochs here resulted in overtraining, indicating that this probably would do better with a larger dataset.\n"
      ]
    },
    {
      "cell_type": "code",
      "metadata": {
        "id": "T3Lgg5GOjIXo",
        "colab_type": "code",
        "colab": {}
      },
      "source": [
        "learn = language_model_learner(data_lm, AWD_LSTM, drop_mult=0.3)"
      ],
      "execution_count": 0,
      "outputs": []
    },
    {
      "cell_type": "code",
      "metadata": {
        "id": "41-wb-CMjMVT",
        "colab_type": "code",
        "colab": {
          "base_uri": "https://localhost:8080/",
          "height": 34
        },
        "outputId": "2490262c-bad5-4993-bfa5-0b7a546d6928"
      },
      "source": [
        "learn.lr_find()"
      ],
      "execution_count": 31,
      "outputs": [
        {
          "output_type": "display_data",
          "data": {
            "text/html": [
              ""
            ],
            "text/plain": [
              "<IPython.core.display.HTML object>"
            ]
          },
          "metadata": {
            "tags": []
          }
        },
        {
          "output_type": "stream",
          "text": [
            "LR Finder is complete, type {learner_name}.recorder.plot() to see the graph.\n"
          ],
          "name": "stdout"
        }
      ]
    },
    {
      "cell_type": "code",
      "metadata": {
        "id": "TP04OJUBjPdk",
        "colab_type": "code",
        "colab": {
          "base_uri": "https://localhost:8080/",
          "height": 283
        },
        "outputId": "56a8782c-61a5-4184-9530-a0361e368caf"
      },
      "source": [
        "learn.recorder.plot(skip_end=15)"
      ],
      "execution_count": 32,
      "outputs": [
        {
          "output_type": "display_data",
          "data": {
            "image/png": "[encoded data removed]",
            "text/plain": [
              "<Figure size 432x288 with 1 Axes>"
            ]
          },
          "metadata": {
            "tags": []
          }
        }
      ]
    },
    {
      "cell_type": "code",
      "metadata": {
        "id": "qRPyfU62jSj2",
        "colab_type": "code",
        "colab": {
          "base_uri": "https://localhost:8080/",
          "height": 81
        },
        "outputId": "e935b0ea-3ed6-49b3-b648-6e2d66527ad2"
      },
      "source": [
        "learn.fit_one_cycle(1, 1e-1, moms=(0.8,0.7))"
      ],
      "execution_count": 33,
      "outputs": [
        {
          "output_type": "display_data",
          "data": {
            "text/html": [
              "<table border=\"1\" class=\"dataframe\">\n",
              "  <thead>\n",
              "    <tr style=\"text-align: left;\">\n",
              "      <th>epoch</th>\n",
              "      <th>train_loss</th>\n",
              "      <th>valid_loss</th>\n",
              "      <th>accuracy</th>\n",
              "      <th>time</th>\n",
              "    </tr>\n",
              "  </thead>\n",
              "  <tbody>\n",
              "    <tr>\n",
              "      <td>0</td>\n",
              "      <td>4.329069</td>\n",
              "      <td>3.940457</td>\n",
              "      <td>0.261093</td>\n",
              "      <td>00:28</td>\n",
              "    </tr>\n",
              "  </tbody>\n",
              "</table>"
            ],
            "text/plain": [
              "<IPython.core.display.HTML object>"
            ]
          },
          "metadata": {
            "tags": []
          }
        }
      ]
    },
    {
      "cell_type": "code",
      "metadata": {
        "id": "-RJkeYUGjoxS",
        "colab_type": "code",
        "colab": {}
      },
      "source": [
        "learn.save('fit_head')"
      ],
      "execution_count": 0,
      "outputs": []
    },
    {
      "cell_type": "code",
      "metadata": {
        "id": "LfoHs2x8jwzU",
        "colab_type": "code",
        "colab": {}
      },
      "source": [
        "learn.load('fit_head');"
      ],
      "execution_count": 0,
      "outputs": []
    },
    {
      "cell_type": "code",
      "metadata": {
        "id": "OIV3D5roj0LX",
        "colab_type": "code",
        "colab": {}
      },
      "source": [
        "learn.unfreeze()"
      ],
      "execution_count": 0,
      "outputs": []
    },
    {
      "cell_type": "code",
      "metadata": {
        "id": "OLOP26OYj_me",
        "colab_type": "code",
        "colab": {
          "base_uri": "https://localhost:8080/",
          "height": 34
        },
        "outputId": "64da2a3c-92b1-4b41-ad70-1be239de042c"
      },
      "source": [
        "learn.lr_find()"
      ],
      "execution_count": 37,
      "outputs": [
        {
          "output_type": "display_data",
          "data": {
            "text/html": [
              ""
            ],
            "text/plain": [
              "<IPython.core.display.HTML object>"
            ]
          },
          "metadata": {
            "tags": []
          }
        },
        {
          "output_type": "stream",
          "text": [
            "LR Finder is complete, type {learner_name}.recorder.plot() to see the graph.\n"
          ],
          "name": "stdout"
        }
      ]
    },
    {
      "cell_type": "code",
      "metadata": {
        "id": "PZam9e_8kBA8",
        "colab_type": "code",
        "colab": {
          "base_uri": "https://localhost:8080/",
          "height": 283
        },
        "outputId": "e2bd91ed-21ac-48db-c00c-6836b6da0a13"
      },
      "source": [
        "learn.recorder.plot(skip_end=15)"
      ],
      "execution_count": 38,
      "outputs": [
        {
          "output_type": "display_data",
          "data": {
            "image/png": "[encoded data removed]",
            "text/plain": [
              "<Figure size 432x288 with 1 Axes>"
            ]
          },
          "metadata": {
            "tags": []
          }
        }
      ]
    },
    {
      "cell_type": "code",
      "metadata": {
        "id": "qM9vCKxoj6dH",
        "colab_type": "code",
        "colab": {
          "base_uri": "https://localhost:8080/",
          "height": 206
        },
        "outputId": "a3a8dc53-fc53-4521-dba1-f40946849bac"
      },
      "source": [
        "learn.fit_one_cycle(5, 1e-3, moms=(0.8,0.7))"
      ],
      "execution_count": 39,
      "outputs": [
        {
          "output_type": "display_data",
          "data": {
            "text/html": [
              "<table border=\"1\" class=\"dataframe\">\n",
              "  <thead>\n",
              "    <tr style=\"text-align: left;\">\n",
              "      <th>epoch</th>\n",
              "      <th>train_loss</th>\n",
              "      <th>valid_loss</th>\n",
              "      <th>accuracy</th>\n",
              "      <th>time</th>\n",
              "    </tr>\n",
              "  </thead>\n",
              "  <tbody>\n",
              "    <tr>\n",
              "      <td>0</td>\n",
              "      <td>3.687370</td>\n",
              "      <td>3.819306</td>\n",
              "      <td>0.276894</td>\n",
              "      <td>00:35</td>\n",
              "    </tr>\n",
              "    <tr>\n",
              "      <td>1</td>\n",
              "      <td>3.529029</td>\n",
              "      <td>3.725609</td>\n",
              "      <td>0.289394</td>\n",
              "      <td>00:35</td>\n",
              "    </tr>\n",
              "    <tr>\n",
              "      <td>2</td>\n",
              "      <td>3.271562</td>\n",
              "      <td>3.720577</td>\n",
              "      <td>0.290801</td>\n",
              "      <td>00:35</td>\n",
              "    </tr>\n",
              "    <tr>\n",
              "      <td>3</td>\n",
              "      <td>3.008260</td>\n",
              "      <td>3.772441</td>\n",
              "      <td>0.289637</td>\n",
              "      <td>00:35</td>\n",
              "    </tr>\n",
              "    <tr>\n",
              "      <td>4</td>\n",
              "      <td>2.783135</td>\n",
              "      <td>3.828104</td>\n",
              "      <td>0.287689</td>\n",
              "      <td>00:35</td>\n",
              "    </tr>\n",
              "  </tbody>\n",
              "</table>"
            ],
            "text/plain": [
              "<IPython.core.display.HTML object>"
            ]
          },
          "metadata": {
            "tags": []
          }
        }
      ]
    },
    {
      "cell_type": "code",
      "metadata": {
        "id": "ivd8lGcAkNMS",
        "colab_type": "code",
        "colab": {}
      },
      "source": [
        "learn.save('fine_tuned')"
      ],
      "execution_count": 0,
      "outputs": []
    },
    {
      "cell_type": "code",
      "metadata": {
        "id": "rK7tY_iZkRSt",
        "colab_type": "code",
        "colab": {}
      },
      "source": [
        "learn.load('fine_tuned');"
      ],
      "execution_count": 0,
      "outputs": []
    },
    {
      "cell_type": "markdown",
      "metadata": {
        "id": "YjneBuPSKDe4",
        "colab_type": "text"
      },
      "source": [
        "## Evaluate language model\n",
        "\n",
        "The model reached 28.77% for predicting the next word, which is about as expected for a dataset like this (similar to IMDb example by fastai of ~30%).\n",
        "\n",
        "To test if the model can create sensible output, I test it here on the first phrases: \"I had a good flight\" and \"I had a bad flight\", which should in theory produce positive and negative outputs.\n",
        "\n",
        "The resulting otuputs are tweet-like, and there you can see some positive words in the first set of examples and some negative words in the second set of examples, but they really are a bit mixed up. But they show that the language model is probably sufficient for these purposes."
      ]
    },
    {
      "cell_type": "code",
      "metadata": {
        "id": "IPM3r3NLlLL0",
        "colab_type": "code",
        "colab": {}
      },
      "source": [
        "TEXT = \"I had a good flight\"\n",
        "N_WORDS = 40\n",
        "N_SENTENCES = 5"
      ],
      "execution_count": 0,
      "outputs": []
    },
    {
      "cell_type": "code",
      "metadata": {
        "id": "-JJoJHvtlUKj",
        "colab_type": "code",
        "colab": {
          "base_uri": "https://localhost:8080/",
          "height": 124
        },
        "outputId": "79621f79-7002-4f12-8b71-b6e22a361488"
      },
      "source": [
        "print(\"\\n\".join(learn.predict(TEXT, N_WORDS, temperature=0.75) for _ in range(N_SENTENCES)))"
      ],
      "execution_count": 43,
      "outputs": [
        {
          "output_type": "stream",
          "text": [
            "I had a good flight , and so rebooked too . But not my bag . Flight was Cancelled Flightled . Can you help ? xxbos @usairways ca n't change my flight . i have been on hold for 1.5\n",
            "I had a good flight , but did n't get a meal voucher . My family was first here , but i have been here all day . xxbos @jetblue i was not sure i can change my flight . Luckily i was\n",
            "I had a good flight , but it went it directed someone to the next day . xxbos @usairways awesome flight attendant today who was rude and unwilling to help . Awesome ! ! xxbos @usairways i 'm trying to change my flight tomorrow\n",
            "I had a good flight Our flight scheduled to depart at DFW ! Thanks for the great service ! xxbos @southwestair - Anything you can do for me on this flight ? xxbos @southwestair Great job today . Also\n",
            "I had a good flight of the morning and got it off her seat . She was very helpful and helpful . She was amazing ! ! xxbos @united Thanks JB - Nassau News Live http : /\n"
          ],
          "name": "stdout"
        }
      ]
    },
    {
      "cell_type": "code",
      "metadata": {
        "id": "9WilhFi5lWzZ",
        "colab_type": "code",
        "colab": {}
      },
      "source": [
        "TEXT = \"I had a bad flight\"\n",
        "N_WORDS = 40\n",
        "N_SENTENCES = 5"
      ],
      "execution_count": 0,
      "outputs": []
    },
    {
      "cell_type": "code",
      "metadata": {
        "id": "ZUhyMNF5leUB",
        "colab_type": "code",
        "colab": {
          "base_uri": "https://localhost:8080/",
          "height": 141
        },
        "outputId": "9cdb0704-c43a-47c1-c004-0005abd59ac7"
      },
      "source": [
        "print(\"\\n\".join(learn.predict(TEXT, N_WORDS, temperature=0.75) for _ in range(N_SENTENCES)))"
      ],
      "execution_count": 45,
      "outputs": [
        {
          "output_type": "stream",
          "text": [
            "I had a bad flight , but i was told by an agent that she was \" able to sleep \" on a ticket . By the way , she would be able to help xxbos @united i would like to send a letter\n",
            "I had a bad flight experience and stuck on the runway in Phoenix because the engine is broken . \n",
            "  # americanairlines xxbos @southwestair Found my seat and you lost my baggage . Got ta be happy xxbos @southwestair No ,\n",
            "I had a bad flight - but stuck in the middle of the night . Just got off . xxbos @united You lost my bags . # Memphis xxbos @jetblue Is there any way to get another flight in a few\n",
            "I had a bad flight and not my first time flying with you ! Thanks for the help ! xxbos @usairways i love you guys ! You guys are so impressed with me . xxbos @americanair we are on a flight for tomorrow\n",
            "I had a bad flight , but now i 'm stuck on an tarmac in Cleveland because of your shitty delays . xxbos @americanair and it is n't possible to have a voucher for a hotel . i just want to call to speak\n"
          ],
          "name": "stdout"
        }
      ]
    },
    {
      "cell_type": "code",
      "metadata": {
        "id": "4gfE-jS7ljV6",
        "colab_type": "code",
        "colab": {}
      },
      "source": [
        "learn.save_encoder('fine_tuned_enc')"
      ],
      "execution_count": 0,
      "outputs": []
    },
    {
      "cell_type": "markdown",
      "metadata": {
        "id": "PVcunzpsJ_FE",
        "colab_type": "text"
      },
      "source": [
        "## Train classifier\n",
        "\n",
        "The classifier uses the encoder part of the langauge model and the labels from the dataset.\n",
        "\n",
        "Here the classifier is trained with progressively more layers included in training."
      ]
    },
    {
      "cell_type": "code",
      "metadata": {
        "id": "ncNpTWbEltMz",
        "colab_type": "code",
        "colab": {}
      },
      "source": [
        "data_clas = (TextList.from_csv(path, 'Tweets1.csv', cols='text', vocab=data_lm.vocab)\n",
        "             #grab all the text files in path\n",
        "             .split_subsets(train_size=0.9, valid_size=0.1)\n",
        "             #split to 0.9 training and 0.1 validation\n",
        "             .label_from_df(cols=1, classes=['negative','neutral','positive'])\n",
        "             #label them all with their folders\n",
        "             .databunch(bs=bs))\n",
        "\n",
        "data_clas.save('data_clas.pkl')"
      ],
      "execution_count": 0,
      "outputs": []
    },
    {
      "cell_type": "code",
      "metadata": {
        "id": "G4ZKprp9m_3W",
        "colab_type": "code",
        "colab": {}
      },
      "source": [
        "data_clas = load_data(path, 'data_clas.pkl', bs=bs)"
      ],
      "execution_count": 0,
      "outputs": []
    },
    {
      "cell_type": "code",
      "metadata": {
        "id": "fnIHG9KinEA8",
        "colab_type": "code",
        "colab": {
          "base_uri": "https://localhost:8080/",
          "height": 293
        },
        "outputId": "1b3c3ba6-e225-4ae0-cc27-71120328b6ee"
      },
      "source": [
        "data_clas.show_batch()"
      ],
      "execution_count": 49,
      "outputs": [
        {
          "output_type": "display_data",
          "data": {
            "text/html": [
              "<table border=\"1\" class=\"dataframe\">\n",
              "  <thead>\n",
              "    <tr style=\"text-align: right;\">\n",
              "      <th>text</th>\n",
              "      <th>target</th>\n",
              "    </tr>\n",
              "  </thead>\n",
              "  <tbody>\n",
              "    <tr>\n",
              "      <td>xxbos @united xxmaj hi have a question re future xxmaj flight xxmaj booking xxmaj problems . xxup xxunk - xxup xxunk 29 / 9 xxup xxunk - xxup lax 8 / 10 xxup lax - xxup xxunk 13 / 10 . i 'm * xxup xxunk xxmaj what is checked bag xxunk for xxup xxunk - xxup lax ?</td>\n",
              "      <td>neutral</td>\n",
              "    </tr>\n",
              "    <tr>\n",
              "      <td>xxbos @southwestair xxmaj the xxmaj fact xxmaj that u xxmaj see xxmaj black xxmaj history xxmaj month 12 xxmaj months a xxmaj year xxmaj is xxmaj xxunk ! xxmaj we xxup will xxup be xxmaj an xxmaj xxunk xxmaj xxunk xxmaj for xxmaj xxunk xxmaj like u xxmaj in xxmaj future !</td>\n",
              "      <td>positive</td>\n",
              "    </tr>\n",
              "    <tr>\n",
              "      <td>xxbos @united xxmaj hi , i m flying xxup sfo - xxup lax - xxup xxunk - xxup xxunk . xxmaj my connecting time in xxup lax is xxunk m . xxmaj is it enough time ? xxmaj do i have to collect my bag and xxunk on xxup xxunk ?</td>\n",
              "      <td>neutral</td>\n",
              "    </tr>\n",
              "    <tr>\n",
              "      <td>xxbos @usairways e xxrep 4 y ! xxmaj cancelled xxmaj flightlations , xxmaj flight xxmaj booking xxmaj problemss , reflight xxmaj booking xxmaj problemss , but y' all got me on the same flight out tonight ( not tomorrow ) &amp; &amp; the xxup fc upgrade . xxmaj thx !</td>\n",
              "      <td>positive</td>\n",
              "    </tr>\n",
              "    <tr>\n",
              "      <td>xxbos @virginamerica xxmaj many xxmaj thanks for the xxmaj follow . \\n  # xxunk # xxunk # xxup usa # xxmaj xxunk \\n  xxmaj looking for xxmaj any xxmaj help 😍 \\n  💗 🇬 🇧 💗 🇺 🇸 💗 \\n  🎀 xxunk 🎀 http : / / t.co / xxunk</td>\n",
              "      <td>neutral</td>\n",
              "    </tr>\n",
              "  </tbody>\n",
              "</table>"
            ],
            "text/plain": [
              "<IPython.core.display.HTML object>"
            ]
          },
          "metadata": {
            "tags": []
          }
        }
      ]
    },
    {
      "cell_type": "code",
      "metadata": {
        "id": "bOST3lx-nGbI",
        "colab_type": "code",
        "colab": {}
      },
      "source": [
        "learn = text_classifier_learner(data_clas, AWD_LSTM, drop_mult=0.5)\n",
        "learn.load_encoder('fine_tuned_enc');"
      ],
      "execution_count": 0,
      "outputs": []
    },
    {
      "cell_type": "code",
      "metadata": {
        "id": "wlfu0SijnNki",
        "colab_type": "code",
        "colab": {
          "base_uri": "https://localhost:8080/",
          "height": 34
        },
        "outputId": "097cb6e9-e292-45dc-fa03-9947b90b095b"
      },
      "source": [
        "learn.lr_find()"
      ],
      "execution_count": 51,
      "outputs": [
        {
          "output_type": "display_data",
          "data": {
            "text/html": [
              ""
            ],
            "text/plain": [
              "<IPython.core.display.HTML object>"
            ]
          },
          "metadata": {
            "tags": []
          }
        },
        {
          "output_type": "stream",
          "text": [
            "LR Finder is complete, type {learner_name}.recorder.plot() to see the graph.\n"
          ],
          "name": "stdout"
        }
      ]
    },
    {
      "cell_type": "code",
      "metadata": {
        "id": "7Ql9gEJtnRcK",
        "colab_type": "code",
        "colab": {
          "base_uri": "https://localhost:8080/",
          "height": 283
        },
        "outputId": "98c28752-541a-433e-8ad4-727d23b3abfa"
      },
      "source": [
        "learn.recorder.plot()"
      ],
      "execution_count": 52,
      "outputs": [
        {
          "output_type": "display_data",
          "data": {
            "image/png": "[encoded data removed]",
            "text/plain": [
              "<Figure size 432x288 with 1 Axes>"
            ]
          },
          "metadata": {
            "tags": []
          }
        }
      ]
    },
    {
      "cell_type": "code",
      "metadata": {
        "id": "uLQgeicjnTmZ",
        "colab_type": "code",
        "colab": {
          "base_uri": "https://localhost:8080/",
          "height": 81
        },
        "outputId": "ab40d72b-a5a7-414a-806f-790aa5ccd305"
      },
      "source": [
        "learn.fit_one_cycle(1, 2e-2, moms=(0.8,0.7))"
      ],
      "execution_count": 53,
      "outputs": [
        {
          "output_type": "display_data",
          "data": {
            "text/html": [
              "<table border=\"1\" class=\"dataframe\">\n",
              "  <thead>\n",
              "    <tr style=\"text-align: left;\">\n",
              "      <th>epoch</th>\n",
              "      <th>train_loss</th>\n",
              "      <th>valid_loss</th>\n",
              "      <th>accuracy</th>\n",
              "      <th>time</th>\n",
              "    </tr>\n",
              "  </thead>\n",
              "  <tbody>\n",
              "    <tr>\n",
              "      <td>0</td>\n",
              "      <td>0.670388</td>\n",
              "      <td>0.516347</td>\n",
              "      <td>0.794399</td>\n",
              "      <td>00:16</td>\n",
              "    </tr>\n",
              "  </tbody>\n",
              "</table>"
            ],
            "text/plain": [
              "<IPython.core.display.HTML object>"
            ]
          },
          "metadata": {
            "tags": []
          }
        }
      ]
    },
    {
      "cell_type": "code",
      "metadata": {
        "id": "pRRx4ZTyncH1",
        "colab_type": "code",
        "colab": {}
      },
      "source": [
        "learn.save('first')"
      ],
      "execution_count": 0,
      "outputs": []
    },
    {
      "cell_type": "code",
      "metadata": {
        "id": "CD1znu0FnfeR",
        "colab_type": "code",
        "colab": {}
      },
      "source": [
        "learn.load('first');"
      ],
      "execution_count": 0,
      "outputs": []
    },
    {
      "cell_type": "code",
      "metadata": {
        "id": "w7ziWdpbnhm6",
        "colab_type": "code",
        "colab": {
          "base_uri": "https://localhost:8080/",
          "height": 81
        },
        "outputId": "c6796680-b467-41bb-ab2c-c5eb6784b433"
      },
      "source": [
        "learn.freeze_to(-2)\n",
        "learn.fit_one_cycle(1, slice(1e-2/(2.6**4),1e-2), moms=(0.8,0.7))"
      ],
      "execution_count": 56,
      "outputs": [
        {
          "output_type": "display_data",
          "data": {
            "text/html": [
              "<table border=\"1\" class=\"dataframe\">\n",
              "  <thead>\n",
              "    <tr style=\"text-align: left;\">\n",
              "      <th>epoch</th>\n",
              "      <th>train_loss</th>\n",
              "      <th>valid_loss</th>\n",
              "      <th>accuracy</th>\n",
              "      <th>time</th>\n",
              "    </tr>\n",
              "  </thead>\n",
              "  <tbody>\n",
              "    <tr>\n",
              "      <td>0</td>\n",
              "      <td>0.595649</td>\n",
              "      <td>0.464893</td>\n",
              "      <td>0.821038</td>\n",
              "      <td>00:19</td>\n",
              "    </tr>\n",
              "  </tbody>\n",
              "</table>"
            ],
            "text/plain": [
              "<IPython.core.display.HTML object>"
            ]
          },
          "metadata": {
            "tags": []
          }
        }
      ]
    },
    {
      "cell_type": "code",
      "metadata": {
        "id": "5e33FKuYnkzx",
        "colab_type": "code",
        "colab": {}
      },
      "source": [
        "learn.save('second')"
      ],
      "execution_count": 0,
      "outputs": []
    },
    {
      "cell_type": "code",
      "metadata": {
        "id": "NYypVrdanvaA",
        "colab_type": "code",
        "colab": {}
      },
      "source": [
        "learn.load('second');"
      ],
      "execution_count": 0,
      "outputs": []
    },
    {
      "cell_type": "code",
      "metadata": {
        "id": "kg7Ut3sTnxRw",
        "colab_type": "code",
        "colab": {
          "base_uri": "https://localhost:8080/",
          "height": 81
        },
        "outputId": "c10ab781-204e-4bb9-c5db-6dbe48c03e9e"
      },
      "source": [
        "learn.freeze_to(-3)\n",
        "learn.fit_one_cycle(1, slice(5e-3/(2.6**4),5e-3), moms=(0.8,0.7))"
      ],
      "execution_count": 59,
      "outputs": [
        {
          "output_type": "display_data",
          "data": {
            "text/html": [
              "<table border=\"1\" class=\"dataframe\">\n",
              "  <thead>\n",
              "    <tr style=\"text-align: left;\">\n",
              "      <th>epoch</th>\n",
              "      <th>train_loss</th>\n",
              "      <th>valid_loss</th>\n",
              "      <th>accuracy</th>\n",
              "      <th>time</th>\n",
              "    </tr>\n",
              "  </thead>\n",
              "  <tbody>\n",
              "    <tr>\n",
              "      <td>0</td>\n",
              "      <td>0.557994</td>\n",
              "      <td>0.437373</td>\n",
              "      <td>0.830601</td>\n",
              "      <td>00:33</td>\n",
              "    </tr>\n",
              "  </tbody>\n",
              "</table>"
            ],
            "text/plain": [
              "<IPython.core.display.HTML object>"
            ]
          },
          "metadata": {
            "tags": []
          }
        }
      ]
    },
    {
      "cell_type": "code",
      "metadata": {
        "id": "FzY6KPJun5ob",
        "colab_type": "code",
        "colab": {}
      },
      "source": [
        "learn.save('third')"
      ],
      "execution_count": 0,
      "outputs": []
    },
    {
      "cell_type": "code",
      "metadata": {
        "id": "Ht4tCXskoGfW",
        "colab_type": "code",
        "colab": {}
      },
      "source": [
        "learn.load('third');"
      ],
      "execution_count": 0,
      "outputs": []
    },
    {
      "cell_type": "code",
      "metadata": {
        "id": "VuqM_yu4oIUZ",
        "colab_type": "code",
        "colab": {
          "base_uri": "https://localhost:8080/",
          "height": 112
        },
        "outputId": "dd556dd2-03ff-428d-ab59-5c1d88057355"
      },
      "source": [
        "learn.unfreeze()\n",
        "learn.fit_one_cycle(2, slice(1e-3/(2.6**4),1e-3), moms=(0.8,0.7))"
      ],
      "execution_count": 62,
      "outputs": [
        {
          "output_type": "display_data",
          "data": {
            "text/html": [
              "<table border=\"1\" class=\"dataframe\">\n",
              "  <thead>\n",
              "    <tr style=\"text-align: left;\">\n",
              "      <th>epoch</th>\n",
              "      <th>train_loss</th>\n",
              "      <th>valid_loss</th>\n",
              "      <th>accuracy</th>\n",
              "      <th>time</th>\n",
              "    </tr>\n",
              "  </thead>\n",
              "  <tbody>\n",
              "    <tr>\n",
              "      <td>0</td>\n",
              "      <td>0.479976</td>\n",
              "      <td>0.430617</td>\n",
              "      <td>0.834016</td>\n",
              "      <td>00:43</td>\n",
              "    </tr>\n",
              "    <tr>\n",
              "      <td>1</td>\n",
              "      <td>0.440693</td>\n",
              "      <td>0.427157</td>\n",
              "      <td>0.838115</td>\n",
              "      <td>00:42</td>\n",
              "    </tr>\n",
              "  </tbody>\n",
              "</table>"
            ],
            "text/plain": [
              "<IPython.core.display.HTML object>"
            ]
          },
          "metadata": {
            "tags": []
          }
        }
      ]
    },
    {
      "cell_type": "code",
      "metadata": {
        "id": "g1_NHu2kMYn9",
        "colab_type": "code",
        "colab": {}
      },
      "source": [
        "learn.save('fourth')"
      ],
      "execution_count": 0,
      "outputs": []
    },
    {
      "cell_type": "code",
      "metadata": {
        "id": "G7YeOSnOMbrB",
        "colab_type": "code",
        "colab": {}
      },
      "source": [
        "learn.load('fourth');"
      ],
      "execution_count": 0,
      "outputs": []
    },
    {
      "cell_type": "markdown",
      "metadata": {
        "id": "CY1FtIjhMf8Q",
        "colab_type": "text"
      },
      "source": [
        "## Evaluate classifier\n",
        "\n",
        "From above, the accuracy on the validation set was 83.81%\n",
        "\n",
        "The classifier predicts the following simple sentences correctly:\n"
      ]
    },
    {
      "cell_type": "code",
      "metadata": {
        "id": "kzJy_wHWoKls",
        "colab_type": "code",
        "colab": {
          "base_uri": "https://localhost:8080/",
          "height": 34
        },
        "outputId": "754f6961-ad99-42c4-df97-e49c2b044b14"
      },
      "source": [
        "learn.predict(\"I had a terrible flight\")"
      ],
      "execution_count": 65,
      "outputs": [
        {
          "output_type": "execute_result",
          "data": {
            "text/plain": [
              "(Category negative, tensor(0), tensor([0.6827, 0.0438, 0.2735]))"
            ]
          },
          "metadata": {
            "tags": []
          },
          "execution_count": 65
        }
      ]
    },
    {
      "cell_type": "code",
      "metadata": {
        "id": "s_AL-hzZodlg",
        "colab_type": "code",
        "colab": {
          "base_uri": "https://localhost:8080/",
          "height": 34
        },
        "outputId": "faf275c8-79ca-453d-ef60-89e716cf1847"
      },
      "source": [
        "learn.predict(\"I had a great flight\")"
      ],
      "execution_count": 66,
      "outputs": [
        {
          "output_type": "execute_result",
          "data": {
            "text/plain": [
              "(Category positive, tensor(2), tensor([0.0072, 0.0046, 0.9882]))"
            ]
          },
          "metadata": {
            "tags": []
          },
          "execution_count": 66
        }
      ]
    },
    {
      "cell_type": "code",
      "metadata": {
        "id": "WeENBXehohFx",
        "colab_type": "code",
        "colab": {
          "base_uri": "https://localhost:8080/",
          "height": 34
        },
        "outputId": "72f279ee-0f65-43ff-8100-b054fb67be74"
      },
      "source": [
        "learn.predict(\"I had an average flight\")"
      ],
      "execution_count": 67,
      "outputs": [
        {
          "output_type": "execute_result",
          "data": {
            "text/plain": [
              "(Category neutral, tensor(1), tensor([0.3723, 0.4346, 0.1931]))"
            ]
          },
          "metadata": {
            "tags": []
          },
          "execution_count": 67
        }
      ]
    },
    {
      "cell_type": "markdown",
      "metadata": {
        "id": "7ExykQTbM1T0",
        "colab_type": "text"
      },
      "source": [
        "## Conclusions\n",
        "\n",
        "The language model reached an accuracy of 28.77% for predicting the next word.\n",
        "\n",
        "The classifier reached an accuracy of 83.81% for predicting the sentiment of the tweet.\n",
        "\n",
        "This could be improved by increasing the size of the dataset, working out better ways to clean the tweets in the dataset (grammatical errors, typos, hashtags), or possibly by using the sentiment confidence in some way (as those with lower than 1.0 confidence have been classified by people into different categories)."
      ]
    }
  ]
}